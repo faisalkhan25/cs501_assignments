{
 "cells": [
  {
   "cell_type": "markdown",
   "id": "70d0dd7f-8511-4815-8589-03e59e010ce2",
   "metadata": {},
   "source": [
    "Q1. Explain Class and Object with respect to Object-Oriented Programming. Give a suitable example.\n"
   ]
  },
  {
   "cell_type": "markdown",
   "id": "55c79297-710f-45fa-b371-88473741a14c",
   "metadata": {},
   "source": [
    "answer -> class is the blueprint of the object or we can also say that class is used defined data type which contain different data members and functions , here no memory is allocated.\n",
    "Object is the instance of the class . its like when we want to build the class in real life , it is done using creating an object of that class"
   ]
  },
  {
   "cell_type": "code",
   "execution_count": 1,
   "id": "72f1a8c1-167a-4eda-894d-a77eb1ba3b70",
   "metadata": {},
   "outputs": [],
   "source": [
    "class test1:\n",
    "    \n",
    "    def print_marks(self,marks):\n",
    "        self.marks = marks\n",
    "        print(self.marks)"
   ]
  },
  {
   "cell_type": "code",
   "execution_count": 2,
   "id": "15932e43-6710-415d-9039-9a7e8b45dfd5",
   "metadata": {},
   "outputs": [],
   "source": [
    "student1 = test1() ## object creation of the above class which is only blueprint."
   ]
  },
  {
   "cell_type": "code",
   "execution_count": 4,
   "id": "97650c60-3191-49b9-acb0-84d5c6d08b94",
   "metadata": {},
   "outputs": [
    {
     "name": "stdout",
     "output_type": "stream",
     "text": [
      "100\n"
     ]
    }
   ],
   "source": [
    "student1.print_marks(100) ## accessing the perticular function of the class through object."
   ]
  },
  {
   "cell_type": "markdown",
   "id": "829d05f0-e182-405b-a378-1223551d976b",
   "metadata": {},
   "source": [
    "Q2. Name the four pillars of OOPs.\n"
   ]
  },
  {
   "cell_type": "markdown",
   "id": "10a4b5e4-01d3-4f88-b285-b9f52d7ed916",
   "metadata": {},
   "source": [
    "answer -> 1.polymorphism\n",
    "2.inheritance\n",
    "3.encapsulation\n",
    "4.abstraction"
   ]
  },
  {
   "cell_type": "markdown",
   "id": "221655de-f7d3-4449-b8cd-973d5f401552",
   "metadata": {},
   "source": [
    "Q3. Explain why the __init__() function is used. Give a suitable example.\n"
   ]
  },
  {
   "cell_type": "markdown",
   "id": "fddd8f0f-6155-48d3-82ef-13b24759c19f",
   "metadata": {},
   "source": [
    "answer -> when instance of the class is created and we want to pass the data simultaneously . It is a constructor function which recieves the data at the time of formation of instance of the class."
   ]
  },
  {
   "cell_type": "code",
   "execution_count": 26,
   "id": "3843dcdf-a80a-454a-ba65-e2007263452a",
   "metadata": {},
   "outputs": [],
   "source": [
    "class test2:\n",
    "    def __init__(self,name,emailId,rollNo):\n",
    "        self.__name = name\n",
    "        self.__emailId = emailId\n",
    "        self.__rollNo = rollNo\n",
    "    \n",
    "    def get_values(self):\n",
    "        print(self.name)\n",
    "        print(self.emailId)\n",
    "        print(self.rollNo)\n"
   ]
  },
  {
   "cell_type": "code",
   "execution_count": 27,
   "id": "b9308a7a-dfd7-43da-922a-be2ceb9b0ed7",
   "metadata": {},
   "outputs": [],
   "source": [
    "student2 = test2('hello','hello@gmail.com',1) ## here we are also taking data as the time of creation of object."
   ]
  },
  {
   "cell_type": "code",
   "execution_count": 21,
   "id": "7055ae67-6663-47f5-b108-7f69a67134a7",
   "metadata": {},
   "outputs": [
    {
     "name": "stdout",
     "output_type": "stream",
     "text": [
      "hello\n",
      "hello@gmail.com\n",
      "1\n"
     ]
    }
   ],
   "source": [
    "student2.get_values()"
   ]
  },
  {
   "cell_type": "markdown",
   "id": "72302914-499c-461b-abdd-aeb2a81819fc",
   "metadata": {},
   "source": [
    "Q4. Why self is used in OOPs?\n"
   ]
  },
  {
   "cell_type": "markdown",
   "id": "c0ec3fb1-bdad-4c3b-955b-65d802714b90",
   "metadata": {},
   "source": [
    "answer ->  we use self in OOPs because when we declare a function or a variable which is present in that function and want to point that towards that class in which they are declared or associate with the class in which they are decleared. for example"
   ]
  },
  {
   "cell_type": "code",
   "execution_count": 1,
   "id": "9a587b48-2977-41e4-92fd-174e14732bca",
   "metadata": {},
   "outputs": [],
   "source": [
    "class self_test:\n",
    "    def __init__(self,name,email): ## with the help of self we point init towards the class self_test.\n",
    "        self.name = name\n",
    "        self.email = email"
   ]
  },
  {
   "cell_type": "markdown",
   "id": "95058196-8da5-489d-9969-385567ea0c3f",
   "metadata": {},
   "source": [
    "Q5. What is inheritance? Give an example for each type of inheritance.\n"
   ]
  },
  {
   "cell_type": "markdown",
   "id": "b9cb0dde-672c-447c-82b4-13a0b00672fc",
   "metadata": {},
   "source": [
    "inheritance is the concepts in OOPs in which when we form a class and that class should also inherit the properties of some other class and can be used."
   ]
  },
  {
   "cell_type": "code",
   "execution_count": 2,
   "id": "61b3c3ef-955f-475f-9858-61e475feb0a9",
   "metadata": {},
   "outputs": [],
   "source": [
    "class student_details:\n",
    "    def class1(self):\n",
    "        print('this property is from class 1')"
   ]
  },
  {
   "cell_type": "code",
   "execution_count": 4,
   "id": "90c1200b-46aa-49db-89ed-b696f772219f",
   "metadata": {},
   "outputs": [],
   "source": [
    "class mentor_list(student_details):\n",
    "    def list_of_mentors(self):\n",
    "        print('this property is from class 2')"
   ]
  },
  {
   "cell_type": "code",
   "execution_count": 5,
   "id": "54ed2ffc-9b7a-49ed-971a-674c71eec064",
   "metadata": {},
   "outputs": [],
   "source": [
    "student1 = mentor_list()"
   ]
  },
  {
   "cell_type": "code",
   "execution_count": 6,
   "id": "9599aa72-eb44-4cf7-a1f2-f894a8e6553d",
   "metadata": {},
   "outputs": [
    {
     "name": "stdout",
     "output_type": "stream",
     "text": [
      "this property is from class 2\n"
     ]
    }
   ],
   "source": [
    "student1.list_of_mentors()"
   ]
  },
  {
   "cell_type": "code",
   "execution_count": 7,
   "id": "ef62e38b-a190-49fd-a36f-8cdc3968cfe6",
   "metadata": {},
   "outputs": [
    {
     "name": "stdout",
     "output_type": "stream",
     "text": [
      "this property is from class 1\n"
     ]
    }
   ],
   "source": [
    "student1.class1()"
   ]
  },
  {
   "cell_type": "code",
   "execution_count": 8,
   "id": "10512b14-67ac-455a-9ba0-51febfed0208",
   "metadata": {},
   "outputs": [],
   "source": [
    "## this is called label inheritance but we can also make multiple class and some other class can inherit all properties of these multiple classes"
   ]
  },
  {
   "cell_type": "code",
   "execution_count": 9,
   "id": "0164594b-72ad-47c1-b827-cb1183b87b45",
   "metadata": {},
   "outputs": [],
   "source": [
    "class test3:\n",
    "    def student_details(self):\n",
    "        print('this property is from class test3')"
   ]
  },
  {
   "cell_type": "code",
   "execution_count": 10,
   "id": "51ce2c39-9830-40de-a625-2db217c3649c",
   "metadata": {},
   "outputs": [],
   "source": [
    "class test4:\n",
    "    def mentor_list(self):\n",
    "        print('this property is from class test4')"
   ]
  },
  {
   "cell_type": "code",
   "execution_count": 11,
   "id": "81f437c8-ada0-493e-9aba-44521fba3164",
   "metadata": {},
   "outputs": [],
   "source": [
    "class test5:\n",
    "    def email_id(self):\n",
    "        print('this property is from class test5')\n",
    "    "
   ]
  },
  {
   "cell_type": "code",
   "execution_count": 12,
   "id": "da7d8bc5-373b-4d69-8fe7-68d66b02716b",
   "metadata": {},
   "outputs": [],
   "source": [
    "class second_type_inheritance(test3,test4,test5):\n",
    "    def main_class(self):\n",
    "        print('this property is from main class')"
   ]
  },
  {
   "cell_type": "code",
   "execution_count": 15,
   "id": "e9b76c86-5e85-4d0a-8c48-609855417a09",
   "metadata": {},
   "outputs": [],
   "source": [
    "student3 = second_type_inheritance()"
   ]
  },
  {
   "cell_type": "code",
   "execution_count": 16,
   "id": "f277bbd1-a5fa-4cc5-9f03-458c0a1c7cf2",
   "metadata": {},
   "outputs": [
    {
     "name": "stdout",
     "output_type": "stream",
     "text": [
      "this property is from main class\n"
     ]
    }
   ],
   "source": [
    "student3.main_class()"
   ]
  },
  {
   "cell_type": "code",
   "execution_count": 17,
   "id": "a04b7e4f-f5f7-45b0-8ccd-0404b1016298",
   "metadata": {},
   "outputs": [
    {
     "name": "stdout",
     "output_type": "stream",
     "text": [
      "this property is from class test3\n"
     ]
    }
   ],
   "source": [
    "student3.student_details()"
   ]
  },
  {
   "cell_type": "code",
   "execution_count": 18,
   "id": "5c0fb556-352f-42c0-82d8-4936c81cf0f0",
   "metadata": {},
   "outputs": [
    {
     "name": "stdout",
     "output_type": "stream",
     "text": [
      "this property is from class test4\n"
     ]
    }
   ],
   "source": [
    "student3.mentor_list()"
   ]
  },
  {
   "cell_type": "code",
   "execution_count": 19,
   "id": "ae7a5cc7-efc0-48b5-98e6-d8d60bbfcde8",
   "metadata": {},
   "outputs": [
    {
     "name": "stdout",
     "output_type": "stream",
     "text": [
      "this property is from class test5\n"
     ]
    }
   ],
   "source": [
    "student3.email_id()"
   ]
  },
  {
   "cell_type": "code",
   "execution_count": null,
   "id": "f90439b9-bb75-4ebc-bb66-dbe55bd06306",
   "metadata": {},
   "outputs": [],
   "source": []
  }
 ],
 "metadata": {
  "kernelspec": {
   "display_name": "Python 3 (ipykernel)",
   "language": "python",
   "name": "python3"
  },
  "language_info": {
   "codemirror_mode": {
    "name": "ipython",
    "version": 3
   },
   "file_extension": ".py",
   "mimetype": "text/x-python",
   "name": "python",
   "nbconvert_exporter": "python",
   "pygments_lexer": "ipython3",
   "version": "3.10.8"
  }
 },
 "nbformat": 4,
 "nbformat_minor": 5
}
