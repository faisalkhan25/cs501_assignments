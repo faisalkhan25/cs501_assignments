{
 "cells": [
  {
   "cell_type": "markdown",
   "id": "5fa9a09b-55c6-4477-a611-552df04ce6b3",
   "metadata": {},
   "source": [
    "Q1. Explain with an example each when to use a for loop and a while loop."
   ]
  },
  {
   "cell_type": "markdown",
   "id": "0c255359-2ecb-4428-a3d0-e200399a1947",
   "metadata": {},
   "source": [
    "ANS: for loop is used when we have to iterate over any perticular data structure but it can also used for the same reasons as while loop also e.g\n",
    "l = [1,2,3,4,5,6] this is the list data structure and if we want to get data one by one from this list we can use for loop as follows\n",
    "for i in l :\n",
    "    print(i)\n",
    "    \n",
    "    \n",
    "in while loop we have to provide a condition under while loop and when this condition is false we get out of loop . for example we have to print numbers from i to 10\n",
    " i = 1\n",
    " while i <= 10 :\n",
    "     print(i)\n",
    "this will print numbers from 1 to 10\n"
   ]
  },
  {
   "cell_type": "markdown",
   "id": "6d01a3c0-0413-4854-8159-59e6c2949af4",
   "metadata": {},
   "source": [
    "Q2. Write a python program to print the sum and product of the first 10 natural numbers using for\n",
    "and while loop."
   ]
  },
  {
   "cell_type": "code",
   "execution_count": 2,
   "id": "1f3df5d9-b039-4918-9b38-78aa0b977df4",
   "metadata": {},
   "outputs": [
    {
     "name": "stdout",
     "output_type": "stream",
     "text": [
      "55\n"
     ]
    }
   ],
   "source": [
    "sum = 0\n",
    "for i in range(11) :\n",
    "    sum = sum + i\n",
    "print(sum)"
   ]
  },
  {
   "cell_type": "code",
   "execution_count": 3,
   "id": "c19f1d2c-80f4-4f8a-b2c3-429b7927f365",
   "metadata": {},
   "outputs": [
    {
     "name": "stdout",
     "output_type": "stream",
     "text": [
      "3628800\n"
     ]
    }
   ],
   "source": [
    "product = 1\n",
    "for i in range(1,11,1) :\n",
    "    product = product * i\n",
    "print(product)"
   ]
  },
  {
   "cell_type": "code",
   "execution_count": null,
   "id": "306d792c-8748-40d2-a1e0-9e963320b75c",
   "metadata": {},
   "outputs": [],
   "source": [
    "sum = 0\n",
    "i = 1\n",
    "while i <= 10 :\n",
    "    sum = sum + i\n",
    "    i = i + 1\n",
    "print(sum)"
   ]
  },
  {
   "cell_type": "code",
   "execution_count": 1,
   "id": "e8c8e18a-0066-4568-8ffd-06863a423bde",
   "metadata": {},
   "outputs": [
    {
     "name": "stdout",
     "output_type": "stream",
     "text": [
      "3628800\n"
     ]
    }
   ],
   "source": [
    "prod = 1 \n",
    "i = 1\n",
    "while i <= 10 :\n",
    "    prod = prod * i\n",
    "    i = i + 1\n",
    "print(prod)"
   ]
  },
  {
   "cell_type": "markdown",
   "id": "bc313593-c5a3-4455-9b57-6c6cb559ed74",
   "metadata": {},
   "source": [
    "Q3. Create a python program to compute the electricity bill for a household.\n",
    "\n",
    "The per-unit charges in rupees are as follows: For the first 100 units, the user will be charged Rs. 4.5 per \n",
    "unit, for the next 100 units, the user will be charged Rs. 6 per unit, and for the next 100 units, the user will \n",
    "be charged Rs. 10 per unit, After 300 units and above the user will be charged Rs. 20 per unit.\n",
    "\n",
    "You are required to take the units of electricity consumed in a month from the user as input.\n",
    "\n",
    "Your program must pass this test case: when the unit of electricity consumed by the user in a month is \n",
    "310, the total electricity bill should be 2250."
   ]
  },
  {
   "cell_type": "code",
   "execution_count": null,
   "id": "a6d03cfb-4ae0-4922-8bed-4607834a53fd",
   "metadata": {},
   "outputs": [],
   "source": [
    "units = int(input('enter units of electricity'))\n",
    "if units <= 100 : \n",
    "    print(units * 4.5)\n",
    "elif units <= 200 :\n",
    "    print(100 * 4.5 + (units - 100) * 6)\n",
    "elif units <= 300 :\n",
    "    print(100 * 4.5 + 100 * 6 + (units - 200) * 10)\n",
    "else :\n",
    "    print(100 * 4.5 + 100 * 6 + 100 * 10 + (units - 300) * 20)\n",
    "    "
   ]
  },
  {
   "cell_type": "markdown",
   "id": "7e03e6a0-db39-4eb8-bc81-28a7f5c85d24",
   "metadata": {},
   "source": [
    "Q4. Create a list of numbers from 1 to 100. Use for loop and while loop to calculate the cube of each \n",
    "number and if the cube of that number is divisible by 4 or 5 then append that number in a list and print \n",
    "that list"
   ]
  },
  {
   "cell_type": "code",
   "execution_count": 4,
   "id": "be366387-0c11-4946-8aef-164c573818d1",
   "metadata": {},
   "outputs": [],
   "source": [
    "l = list(range(1,101,1))"
   ]
  },
  {
   "cell_type": "code",
   "execution_count": 6,
   "id": "e280093d-d0be-473b-b98f-d8473cc5da46",
   "metadata": {},
   "outputs": [
    {
     "name": "stdout",
     "output_type": "stream",
     "text": [
      "[2, 4, 5, 6, 8, 10, 12, 14, 15, 16, 18, 20, 22, 24, 25, 26, 28, 30, 32, 34, 35, 36, 38, 40, 42, 44, 45, 46, 48, 50, 52, 54, 55, 56, 58, 60, 62, 64, 65, 66, 68, 70, 72, 74, 75, 76, 78, 80, 82, 84, 85, 86, 88, 90, 92, 94, 95, 96, 98, 100]\n"
     ]
    }
   ],
   "source": [
    "l1 = []\n",
    "for i in l :\n",
    "    cube = i**3\n",
    "    if cube % 4 == 0 or cube % 5 == 0 :\n",
    "        l1.append(i)\n",
    "print(l1)"
   ]
  },
  {
   "cell_type": "code",
   "execution_count": null,
   "id": "d5544a21-0993-4f4d-8b9c-feaff0aca4e0",
   "metadata": {},
   "outputs": [],
   "source": []
  },
  {
   "cell_type": "markdown",
   "id": "e502efd8-4e11-4a4b-a30a-4d1ba33faa19",
   "metadata": {},
   "source": [
    "Q5.  Write a program to filter count vowels in the below-given string.\n",
    "\n",
    "string = \"I want to become a data scientist\""
   ]
  },
  {
   "cell_type": "code",
   "execution_count": null,
   "id": "6217b814-67c2-4b45-bbbd-fff3c6777f1a",
   "metadata": {},
   "outputs": [],
   "source": [
    "string = 'I want to become a data scientist'\n",
    "string = string.lower()\n",
    "for i in string :\n",
    "    if i == 'i' or i == 'a' or i =='e' or i == 'o' or i == 'u':\n",
    "        count += 1\n",
    "print(count)\n",
    "    "
   ]
  }
 ],
 "metadata": {
  "kernelspec": {
   "display_name": "Python 3 (ipykernel)",
   "language": "python",
   "name": "python3"
  },
  "language_info": {
   "codemirror_mode": {
    "name": "ipython",
    "version": 3
   },
   "file_extension": ".py",
   "mimetype": "text/x-python",
   "name": "python",
   "nbconvert_exporter": "python",
   "pygments_lexer": "ipython3",
   "version": "3.10.8"
  }
 },
 "nbformat": 4,
 "nbformat_minor": 5
}
