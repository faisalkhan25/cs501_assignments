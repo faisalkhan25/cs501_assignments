{
 "cells": [
  {
   "cell_type": "markdown",
   "id": "b91005a4-bd5b-4884-a2f9-b348ca603076",
   "metadata": {},
   "source": [
    "Q1. Create a python program to sort the given list of tuples based on integer value using a \n",
    "lambda function. \n",
    "[('Sachin Tendulkar', 34357), ('Ricky Ponting', 27483), ('Jack Kallis', 25534), ('Virat Kohli', 24936)]\n"
   ]
  },
  {
   "cell_type": "code",
   "execution_count": 7,
   "id": "96aef487-c304-4179-ab09-b728ef4b12b5",
   "metadata": {},
   "outputs": [
    {
     "name": "stdout",
     "output_type": "stream",
     "text": [
      "[('Virat Kohli', 24936), ('Jack Kallis', 25534), ('Ricky Ponting', 27483), ('Sachin Tendulkar', 34357)]\n"
     ]
    }
   ],
   "source": [
    "tuples_list = [('Sachin Tendulkar',34357),('Ricky Ponting',27483),('Jack Kallis',25534),('Virat Kohli',24936)]\n",
    "\n",
    "sorted_list = sorted(tuples_list,key = lambda x:x[1])\n",
    "print(sorted_list)"
   ]
  },
  {
   "cell_type": "markdown",
   "id": "90657e7d-180b-4c2f-b037-be2167b596dc",
   "metadata": {},
   "source": [
    "Q2. Write a Python Program to find the squares of all the numbers in the given list of integers using \n",
    "lambda and map functions.[1, 2, 3, 4, 5, 6, 7, 8, 9, 10]"
   ]
  },
  {
   "cell_type": "code",
   "execution_count": 30,
   "id": "74293614-f9fd-4076-bbe5-1336c3e95ad9",
   "metadata": {},
   "outputs": [
    {
     "name": "stdout",
     "output_type": "stream",
     "text": [
      "[1, 4, 9, 16, 25, 36, 49, 64, 81, 100]\n"
     ]
    }
   ],
   "source": [
    "l = [1,2,3,4,5,6,7,8,9,10]\n",
    "\n",
    "squares = list(map(lambda x : x**2,l))\n",
    "print(squares)"
   ]
  },
  {
   "cell_type": "markdown",
   "id": "dc7cd4df-956d-4eb3-acde-ef60a3988c73",
   "metadata": {},
   "source": [
    "Q3. Write a python program to convert the given list of integers into a tuple of strings. Use map and \n",
    "lambda functions.Given String: [1, 2, 3, 4, 5, 6, 7, 8, 9, 10]\n",
    "Expected output: ('1', '2', '3', '4', '5', '6', '7', '8', '9', '10')\n"
   ]
  },
  {
   "cell_type": "code",
   "execution_count": 31,
   "id": "7880128c-5ae9-4e93-a4f4-328d1b87c387",
   "metadata": {},
   "outputs": [
    {
     "name": "stdout",
     "output_type": "stream",
     "text": [
      "('1', '2', '3', '4', '5', '6', '7', '8', '9', '10')\n"
     ]
    }
   ],
   "source": [
    "l =[1,2,3,4,5,6,7,8,9,10]\n",
    "t = tuple(map(lambda x: str(x),l))\n",
    "print(t)"
   ]
  },
  {
   "cell_type": "markdown",
   "id": "42339834-8509-4e5d-857a-15d2dee21357",
   "metadata": {},
   "source": [
    "Q4.  Write a python program using reduce function to compute the product of a list containing numbers \n",
    "from 1 to 25."
   ]
  },
  {
   "cell_type": "code",
   "execution_count": 37,
   "id": "7f888fb8-81ce-43f3-944b-e47896fb59a6",
   "metadata": {},
   "outputs": [
    {
     "name": "stdout",
     "output_type": "stream",
     "text": [
      "15511210043330985984000000\n"
     ]
    }
   ],
   "source": [
    "from functools import reduce\n",
    "l = list(range(1,26))\n",
    "\n",
    "product = reduce(lambda x , y : x * y ,l)\n",
    "print(product)"
   ]
  },
  {
   "cell_type": "markdown",
   "id": "5f1a0012-88ed-4f2c-92d6-0a44cdaf371b",
   "metadata": {},
   "source": [
    "Q5. Write a python program to filter the numbers in a given list that are divisible by 2 and 3 using the \n",
    "filter function.[2, 3, 6, 9, 27, 60, 90, 120, 55, 46]"
   ]
  },
  {
   "cell_type": "code",
   "execution_count": 38,
   "id": "704cf6b9-b16a-468b-b785-5804ad4e107f",
   "metadata": {},
   "outputs": [
    {
     "name": "stdout",
     "output_type": "stream",
     "text": [
      "[2, 3, 6, 9, 27, 60, 90, 120, 46]\n"
     ]
    }
   ],
   "source": [
    "l = [2,3,6,9,27,60,90,120,55,46]\n",
    "li = list(filter(lambda x: x % 2 == 0 or x % 3 == 0,l))\n",
    "print(li)"
   ]
  },
  {
   "cell_type": "markdown",
   "id": "53b0fa8d-7ddd-4193-8ffa-9e96b3e3c2e6",
   "metadata": {},
   "source": [
    "Q6. Write a python program to find palindromes in the given list of strings using lambda and filter \n",
    "function.['python', 'php', 'aba', 'radar', 'level']"
   ]
  },
  {
   "cell_type": "code",
   "execution_count": 46,
   "id": "78cad997-7fcd-441a-afa4-9d889c6c18cb",
   "metadata": {},
   "outputs": [
    {
     "name": "stdout",
     "output_type": "stream",
     "text": [
      "['php', 'aba', 'radar', 'level']\n"
     ]
    }
   ],
   "source": [
    "l = ['python','php','aba','radar','level']\n",
    "palindromes = list(filter(lambda x: x[::-1] == x,l))\n",
    "print(palindromes)"
   ]
  },
  {
   "cell_type": "code",
   "execution_count": null,
   "id": "d79a2ad4-838c-4129-b24d-be722caf184a",
   "metadata": {},
   "outputs": [],
   "source": []
  }
 ],
 "metadata": {
  "kernelspec": {
   "display_name": "Python 3 (ipykernel)",
   "language": "python",
   "name": "python3"
  },
  "language_info": {
   "codemirror_mode": {
    "name": "ipython",
    "version": 3
   },
   "file_extension": ".py",
   "mimetype": "text/x-python",
   "name": "python",
   "nbconvert_exporter": "python",
   "pygments_lexer": "ipython3",
   "version": "3.10.8"
  }
 },
 "nbformat": 4,
 "nbformat_minor": 5
}
