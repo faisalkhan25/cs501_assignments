{
 "cells": [
  {
   "cell_type": "markdown",
   "id": "6ef2960d-08bd-4d2a-b89d-70ef80d36aa7",
   "metadata": {},
   "source": [
    "Q1. Which keyword is used to create a function? Create a function to return a list of odd numbers in the \n",
    "range of 1 to 25."
   ]
  },
  {
   "cell_type": "code",
   "execution_count": 2,
   "id": "933f7527-fd7c-4233-9bae-0c82dad71069",
   "metadata": {},
   "outputs": [
    {
     "name": "stdout",
     "output_type": "stream",
     "text": [
      "[1, 3, 5, 7, 9, 11, 13, 15, 17, 19, 21, 23, 25]\n"
     ]
    }
   ],
   "source": [
    "## ANSWER :: to create a function we use def keyword\n",
    "\n",
    "l1 = []\n",
    "\n",
    "for i in range(26) :\n",
    "    if i % 2 == 1 :\n",
    "        l1.append(i)\n",
    "print(l1)\n",
    "    "
   ]
  },
  {
   "cell_type": "markdown",
   "id": "2f6beea2-95ac-45d1-b6e3-c07dab91b81e",
   "metadata": {},
   "source": [
    "Q2. Why *args and **kwargs is used in some functions? Create a function each for *args and **kwargs \n",
    "to demonstrate their use."
   ]
  },
  {
   "cell_type": "markdown",
   "id": "a498a2f5-5e4b-4289-a304-1ecac96f584a",
   "metadata": {},
   "source": [
    "ANSWER :: when we want to pass arguments to function without mentioning in the declaration of function and these arguments can be in multiple number as we wish then we use *args\n",
    "if we want to pass dictionary data structure to function as many as we wish then we use **args to hold key value pair."
   ]
  },
  {
   "cell_type": "code",
   "execution_count": 3,
   "id": "6c1b86bf-521c-4e7e-ab20-1139d51837fb",
   "metadata": {},
   "outputs": [],
   "source": [
    "def test(*args):\n",
    "    return args"
   ]
  },
  {
   "cell_type": "code",
   "execution_count": 5,
   "id": "eaaa735b-6213-4f34-978c-8629c7fc8cfa",
   "metadata": {},
   "outputs": [
    {
     "data": {
      "text/plain": [
       "('hello', 'hi', 'by', 1, 33, 2, 4, [44, 5, 644])"
      ]
     },
     "execution_count": 5,
     "metadata": {},
     "output_type": "execute_result"
    }
   ],
   "source": [
    "test('hello','hi','by',1,33,2,4,[44,5,644,])"
   ]
  },
  {
   "cell_type": "code",
   "execution_count": 6,
   "id": "ff23f7f0-7f83-4d43-b41b-549f3503d72c",
   "metadata": {},
   "outputs": [],
   "source": [
    "def test2(**args):\n",
    "    return args"
   ]
  },
  {
   "cell_type": "code",
   "execution_count": 7,
   "id": "bdbe5436-3928-4301-b3dd-b25d296ee43c",
   "metadata": {},
   "outputs": [
    {
     "data": {
      "text/plain": [
       "{'a': 'hello', 'b': 'hi', 'c': 123, 'd': [1, 2, 3, 4, 5, 6, 7, 8, 9]}"
      ]
     },
     "execution_count": 7,
     "metadata": {},
     "output_type": "execute_result"
    }
   ],
   "source": [
    "test2(a='hello',b='hi',c=123,d=[1,2,3,4,5,6,7,8,9])"
   ]
  },
  {
   "cell_type": "markdown",
   "id": "f204e18e-3c69-46ec-b769-dbf151d5a827",
   "metadata": {},
   "source": [
    "Q3.  What is an iterator in python? Name the method used to initialise the iterator object and the method \n",
    "used for iteration. Use these methods to print the first five elements of the given list [2, 4, 6, 8, 10, 12, 14, \n",
    "16, 18, 20]."
   ]
  },
  {
   "cell_type": "markdown",
   "id": "d81a4811-e637-4f5d-ac94-45880e5b0a55",
   "metadata": {},
   "source": [
    "ANSWER :: In python iterator is the variable or we can also say it is an pointer which iterates over any data structure which is iterable. for example list , tuple which are iterable in the basis of index. similarly dictionary is also iterable on the basis of key value pair"
   ]
  },
  {
   "cell_type": "code",
   "execution_count": 14,
   "id": "8bcedd85-7b3b-4138-afcd-b45bc7bd91b8",
   "metadata": {},
   "outputs": [],
   "source": [
    "## method used to initialise the iterator object is iter() and method used for iteration is next()\n",
    "l = [2,4,6,8,10,12,14,16,18,20]\n",
    "pointer = iter(l)"
   ]
  },
  {
   "cell_type": "code",
   "execution_count": 15,
   "id": "0cac964d-1498-4763-a32a-0615d3dc3f15",
   "metadata": {},
   "outputs": [
    {
     "name": "stdout",
     "output_type": "stream",
     "text": [
      "2\n"
     ]
    }
   ],
   "source": [
    "print(next(pointer))"
   ]
  },
  {
   "cell_type": "code",
   "execution_count": 16,
   "id": "8b82a613-780b-4eb1-8c59-091190534aba",
   "metadata": {},
   "outputs": [
    {
     "data": {
      "text/plain": [
       "4"
      ]
     },
     "execution_count": 16,
     "metadata": {},
     "output_type": "execute_result"
    }
   ],
   "source": [
    "next(pointer)"
   ]
  },
  {
   "cell_type": "code",
   "execution_count": 17,
   "id": "6de2c6ca-f343-4ad7-a87e-d3cf14ee3405",
   "metadata": {},
   "outputs": [
    {
     "data": {
      "text/plain": [
       "6"
      ]
     },
     "execution_count": 17,
     "metadata": {},
     "output_type": "execute_result"
    }
   ],
   "source": [
    "next(pointer)"
   ]
  },
  {
   "cell_type": "code",
   "execution_count": 18,
   "id": "c69f6aa5-0cb4-4187-98fa-7985494f61a2",
   "metadata": {},
   "outputs": [
    {
     "data": {
      "text/plain": [
       "8"
      ]
     },
     "execution_count": 18,
     "metadata": {},
     "output_type": "execute_result"
    }
   ],
   "source": [
    "next(pointer)"
   ]
  },
  {
   "cell_type": "code",
   "execution_count": 19,
   "id": "53eefddd-5e79-4f49-9c18-d4c8b38d0f5f",
   "metadata": {},
   "outputs": [
    {
     "data": {
      "text/plain": [
       "10"
      ]
     },
     "execution_count": 19,
     "metadata": {},
     "output_type": "execute_result"
    }
   ],
   "source": [
    "next(pointer)"
   ]
  },
  {
   "cell_type": "markdown",
   "id": "7904464c-ef30-4b90-8418-ccaf4d63b4ed",
   "metadata": {},
   "source": [
    "Q4.  What is a generator function in python? Why yield keyword is used? Give an example of a generator \n",
    "function."
   ]
  },
  {
   "cell_type": "markdown",
   "id": "744b7298-fefe-4c96-b8b3-667303ed9cad",
   "metadata": {},
   "source": [
    "ANSWER :: generator function is a type of function which is used to generate values as per our requirments and do not store the values in any data structure but generates the values at the moment of calling that function and we do that by  first initialize the iterator over that function(iterable) using iter() function then iterate by using next() function .\n",
    "'yield' keyword is used to throw the values to the calling function and this do not terminate the function which 'return' keyword does."
   ]
  },
  {
   "cell_type": "code",
   "execution_count": 40,
   "id": "fd27df32-f6c8-4e9e-bd92-8f02f0fde8fd",
   "metadata": {},
   "outputs": [],
   "source": [
    "## FOR EXAMPLE WE WANT TO GENERATE THE FIBONACCI SERIES WHOSE FIRST TERM IS 0 AND SECOND TERM IS 1 upto n terms.\n",
    "def fib_series(n):\n",
    "    a = 0 \n",
    "    b = 1\n",
    "    i = 1\n",
    "    while i <= n:\n",
    "        yield a\n",
    "        a , b = b , a + b\n",
    "        "
   ]
  },
  {
   "cell_type": "code",
   "execution_count": 41,
   "id": "f900508f-2dee-498a-9443-e86dc5df490e",
   "metadata": {},
   "outputs": [],
   "source": [
    "fib= iter(fib_series(10))"
   ]
  },
  {
   "cell_type": "code",
   "execution_count": 42,
   "id": "ef7cbf64-57f1-493e-a358-fc9e5de160e6",
   "metadata": {},
   "outputs": [
    {
     "name": "stdout",
     "output_type": "stream",
     "text": [
      "0\n",
      "1\n",
      "1\n",
      "2\n",
      "3\n",
      "5\n",
      "8\n",
      "13\n",
      "21\n",
      "34\n"
     ]
    }
   ],
   "source": [
    "for i in range(10):\n",
    "    print(next(fib))"
   ]
  },
  {
   "cell_type": "markdown",
   "id": "44e4500d-3310-4f45-9fb0-aa42645ec7d9",
   "metadata": {},
   "source": [
    "Q5. Create a generator function for prime numbers less than 1000. Use the next() method to print the \n",
    "first 20 prime numbers."
   ]
  },
  {
   "cell_type": "code",
   "execution_count": 29,
   "id": "b6372787-50e4-49eb-950d-1a94ca4ec440",
   "metadata": {},
   "outputs": [],
   "source": [
    "##  ANSWER\n",
    "def prime_numbers():\n",
    "    for i in range(1,1000):\n",
    "        factors = 0\n",
    "        for j in range(1,i+1):\n",
    "            if i % j == 0:\n",
    "                factors = factors + 1\n",
    "        if factors == 2:\n",
    "            yield i"
   ]
  },
  {
   "cell_type": "code",
   "execution_count": 30,
   "id": "4bef56bc-3d4f-4a11-9f1c-1ffe0da2c4c1",
   "metadata": {},
   "outputs": [],
   "source": [
    "primeNumbers = prime_numbers()"
   ]
  },
  {
   "cell_type": "code",
   "execution_count": 31,
   "id": "5d0c3b42-23eb-4ef3-8ad6-ac9b66926abb",
   "metadata": {},
   "outputs": [
    {
     "name": "stdout",
     "output_type": "stream",
     "text": [
      "2\n",
      "3\n",
      "5\n",
      "7\n",
      "11\n",
      "13\n",
      "17\n",
      "19\n",
      "23\n",
      "29\n",
      "31\n",
      "37\n",
      "41\n",
      "43\n",
      "47\n",
      "53\n",
      "59\n",
      "61\n",
      "67\n",
      "71\n"
     ]
    }
   ],
   "source": [
    "for i in range(1,21):\n",
    "    print(next(primeNumbers))"
   ]
  },
  {
   "cell_type": "markdown",
   "id": "ee8cadda-3c68-4f6d-9796-cda182936637",
   "metadata": {},
   "source": [
    "Q6. Write a python program to print the first 10 Fibonacci numbers using a while loop.\n"
   ]
  },
  {
   "cell_type": "code",
   "execution_count": 1,
   "id": "2be0d60e-4378-4110-81cb-a58024a8f6ec",
   "metadata": {},
   "outputs": [
    {
     "name": "stdout",
     "output_type": "stream",
     "text": [
      "0\n",
      "1\n",
      "1\n",
      "2\n",
      "3\n",
      "5\n",
      "8\n",
      "13\n",
      "21\n",
      "34\n"
     ]
    }
   ],
   "source": [
    "a , b = 0 , 1\n",
    "i = 1\n",
    "while i <= 10 :\n",
    "    print(a)\n",
    "    a , b = b , a+b\n",
    "    i = i + 1"
   ]
  },
  {
   "cell_type": "markdown",
   "id": "26040cbd-0258-444b-957e-272b287e93c9",
   "metadata": {},
   "source": [
    "Q7. Write a List Comprehension to iterate through the given string: ‘pwskills’.\n",
    "\n",
    "Expected output: ['p', 'w', 's', 'k', 'i', 'l', 'l', 's'] "
   ]
  },
  {
   "cell_type": "code",
   "execution_count": 2,
   "id": "9d991a4d-1a51-44f6-82c5-023c4d9574a5",
   "metadata": {},
   "outputs": [
    {
     "data": {
      "text/plain": [
       "['p', 'w', 's', 'k', 'i', 'l', 'l', 's']"
      ]
     },
     "execution_count": 2,
     "metadata": {},
     "output_type": "execute_result"
    }
   ],
   "source": [
    "[i for i in 'pwskills']"
   ]
  },
  {
   "cell_type": "markdown",
   "id": "150d6c6b-d511-4b45-941d-498aa5c34d2c",
   "metadata": {},
   "source": [
    "Q8. Write a python program to check whether a given number is Palindrome or not using a while loop."
   ]
  },
  {
   "cell_type": "code",
   "execution_count": 23,
   "id": "d1d08231-cd0c-4ff1-b028-f4c50cda7f8b",
   "metadata": {},
   "outputs": [
    {
     "name": "stdin",
     "output_type": "stream",
     "text": [
      " 1234\n"
     ]
    },
    {
     "name": "stdout",
     "output_type": "stream",
     "text": [
      "not palindrome\n"
     ]
    }
   ],
   "source": [
    "num = int(input())\n",
    "original = num\n",
    "\n",
    "reverse = 0\n",
    "\n",
    "\n",
    "while num > 0:\n",
    "    \n",
    "    last_digit = int(num % 10)\n",
    "    \n",
    "    reverse = (reverse * 10) + last_digit\n",
    "    num = int(num / 10)\n",
    "\n",
    "if(original == reverse) :\n",
    "    print('palindrome')\n",
    "else :\n",
    "    print('not palindrome')\n"
   ]
  },
  {
   "cell_type": "markdown",
   "id": "7c5ac1d7-8615-4329-8b60-b22abf678fa1",
   "metadata": {},
   "source": [
    "Q9. Write a code to print odd numbers from 1 to 100 using list comprehension.\n",
    "Note: Use a list comprehension to create a list from 1 to 100 and use another List comprehension to filter \n",
    "out odd numbers."
   ]
  },
  {
   "cell_type": "code",
   "execution_count": 39,
   "id": "1bb207f1-e9be-4737-a376-c659726b9ebc",
   "metadata": {},
   "outputs": [
    {
     "data": {
      "text/plain": [
       "[1,\n",
       " 3,\n",
       " 5,\n",
       " 7,\n",
       " 9,\n",
       " 11,\n",
       " 13,\n",
       " 15,\n",
       " 17,\n",
       " 19,\n",
       " 21,\n",
       " 23,\n",
       " 25,\n",
       " 27,\n",
       " 29,\n",
       " 31,\n",
       " 33,\n",
       " 35,\n",
       " 37,\n",
       " 39,\n",
       " 41,\n",
       " 43,\n",
       " 45,\n",
       " 47,\n",
       " 49,\n",
       " 51,\n",
       " 53,\n",
       " 55,\n",
       " 57,\n",
       " 59,\n",
       " 61,\n",
       " 63,\n",
       " 65,\n",
       " 67,\n",
       " 69,\n",
       " 71,\n",
       " 73,\n",
       " 75,\n",
       " 77,\n",
       " 79,\n",
       " 81,\n",
       " 83,\n",
       " 85,\n",
       " 87,\n",
       " 89,\n",
       " 91,\n",
       " 93,\n",
       " 95,\n",
       " 97,\n",
       " 99]"
      ]
     },
     "execution_count": 39,
     "metadata": {},
     "output_type": "execute_result"
    }
   ],
   "source": [
    "l = [i for i in range(1,101,1)]\n",
    "\n",
    "[i for i in l if i % 2 == 1]\n"
   ]
  },
  {
   "cell_type": "code",
   "execution_count": null,
   "id": "d32e4736-f51d-4db9-b95f-319cdcd2c272",
   "metadata": {},
   "outputs": [],
   "source": []
  }
 ],
 "metadata": {
  "kernelspec": {
   "display_name": "Python 3 (ipykernel)",
   "language": "python",
   "name": "python3"
  },
  "language_info": {
   "codemirror_mode": {
    "name": "ipython",
    "version": 3
   },
   "file_extension": ".py",
   "mimetype": "text/x-python",
   "name": "python",
   "nbconvert_exporter": "python",
   "pygments_lexer": "ipython3",
   "version": "3.10.8"
  }
 },
 "nbformat": 4,
 "nbformat_minor": 5
}
